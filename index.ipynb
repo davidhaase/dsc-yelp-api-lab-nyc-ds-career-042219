{
 "cells": [
  {
   "cell_type": "markdown",
   "metadata": {},
   "source": [
    "# Yelp API - Lab\n",
    "\n",
    "\n",
    "## Introduction \n",
    "\n",
    "Now that we've seen how the Yelp API works and some basic Folium visualizations, it's time to put those skills to work in order to create a working map! Taking things a step further, you'll also independently explore how to perform pagination in order to retrieve a full results set from the Yelp API!\n",
    "\n",
    "## Objectives\n",
    "\n",
    "You will be able to: \n",
    "* Create HTTP requests to get data from Yelp API\n",
    "* Parse HTTP responses and perform data analysis on the data returned\n",
    "* Perform pagination to retrieve troves of data!\n",
    "* Create a simple geographical system on to view information about selected businesses, at a given location. \n",
    "\n",
    "## Problem Introduction\n",
    "\n",
    "You've now worked with some API calls, but we have yet to see how to retrieve a more complete dataset in a programmatic manner. Returning to the Yelp API, the [documentation](https://www.yelp.com/developers/documentation/v3/business_search) also provides us details regarding the API limits. These often include details about the number of requests a user is allowed to make within a specified time limit and the maximum number of results to be returned. In this case, we are told that any request has a maximum of 50 results per request and defaults to 20. Furthermore, any search will be limited to a total of 1000 results. To retrieve all 1000 of these results, we would have to page through the results piece by piece, retrieving 50 at a time. Processes such as these are often referred to as pagination.\n",
    "\n",
    "In this lab, you will define a search and then paginate over the results to retrieve all of the results. You'll then parse these responses as a DataFrame (for further exploration) and create a map using Folium to visualize the results geographically.\n",
    "\n",
    "## Part I - Make the Initial Request\n",
    "\n",
    "Start by making an initial request to the Yelp API. Your search must include at least 2 parameters: **term** and **location**. For example, you might search for pizza restaurants in NYC. The term and location is up to you, but make the request below."
   ]
  },
  {
   "cell_type": "code",
   "execution_count": 62,
   "metadata": {},
   "outputs": [
    {
     "name": "stdout",
     "output_type": "stream",
     "text": [
      "<Response [200]>\n",
      "<class 'str'>\n",
      "{\"businesses\": [{\"id\": \"MbwsCB7echBlVwzfJ_9c9g\", \"alias\": \"old-tbilisi-garden-new-york-5\", \"name\": \"Old Tbilisi Garden\", \"image_url\": \"https://s3-media4.fl.yelpcdn.com/bphoto/rHIAAjkXEWpF1_HlHR61Mw/o.jpg\", \"is_closed\": false, \"url\": \"https://www.yelp.com/biz/old-tbilisi-garden-new-york-5?adjust_creative=anF6Qsej_5ZGg0iFwWkKWA&utm_campaign=yelp_api_v3&utm_medium=api_v3_business_search&utm_source=anF6Qsej_5ZGg0iFwWkKWA\", \"review_count\": 345, \"categories\": [{\"alias\": \"modern_european\", \"title\": \"Modern European\"}, {\"alias\": \"wine_bars\", \"title\": \"Wine Bars\"}, {\"alias\": \"georgian\", \"title\": \"Georgian\"}], \"rating\": 4.0, \"coordinates\": {\"latitude\": 40.7287707, \"longitude\": -74.0008161}, \"transactions\": [\"delivery\", \"restaurant_reservation\", \"pickup\"], \"price\": \"$$\", \"location\": {\"address1\": \"174 Bleecker St\", \"address2\": \"\", \"address3\": \"\", \"city\": \"New York\", \"zip_code\": \"10012\", \"country\": \"US\", \"state\": \"NY\", \"display_address\": [\"174 Bleecker St\", \"New York, NY 10012\"]}, \"phone\": \"+121247\n"
     ]
    }
   ],
   "source": [
    "#Your code here\n",
    "import requests\n",
    "import json\n",
    "import pandas as pd\n",
    "import folium\n",
    "import numpy as np\n",
    "\n",
    "def yelp_request (offset, limit):\n",
    "    client_id = 'anF6Qsej_5ZGg0iFwWkKWA'\n",
    "    api_key = 'sG8lXeonnc0lFO2zUVtJY6fWKoqTUEcTTWGajtdDysQsPSKKAsQxDO27_KzTStavl6g88t4PWV9WxwFV1TezThRQMb_hU1fDBOWG2wEYaF03icHPjF8DV4QCwSrcXHYx'\n",
    "\n",
    "    term = 'Georgian'\n",
    "    location = 'New York NY'\n",
    "    SEARCH_LIMIT = limit\n",
    "    offset = offset\n",
    "\n",
    "    url = 'https://api.yelp.com/v3/businesses/search'\n",
    "\n",
    "    headers = {\n",
    "            'Authorization': 'Bearer {}'.format(api_key),\n",
    "        }\n",
    "\n",
    "    url_params = {\n",
    "                    'term': term.replace(' ', '+'),\n",
    "                    'location': location.replace(' ', '+'),\n",
    "                    'limit': SEARCH_LIMIT,\n",
    "                    'offset' : offset\n",
    "                }\n",
    "    try:\n",
    "        response = requests.get(url, headers=headers, params=url_params)\n",
    "    except Exception as e:\n",
    "        print(e)\n",
    "    finally:\n",
    "        pass\n",
    "    \n",
    "    return response\n",
    "\n",
    "offset = 0\n",
    "step = 5\n",
    "response = yelp_request(offset, interval)\n",
    "print(response)\n",
    "print(type(response.text))\n",
    "print(response.text[:1000])\n",
    "data = response.json()\n",
    "data.keys()\n",
    "total_count = data['total']\n"
   ]
  },
  {
   "cell_type": "code",
   "execution_count": 63,
   "metadata": {},
   "outputs": [
    {
     "data": {
      "text/plain": [
       "56"
      ]
     },
     "execution_count": 63,
     "metadata": {},
     "output_type": "execute_result"
    }
   ],
   "source": [
    "total_count"
   ]
  },
  {
   "cell_type": "markdown",
   "metadata": {},
   "source": [
    "## Pagination\n",
    "\n",
    "Now that you have an initial response, you can examine the contents of the json container. For example, you might start with ```response.json().keys()```. Here, you'll see a key for `'total'`, which tells you the full number of matching results given your query parameters. Write a loop (or ideally a function) which then makes successive API calls using the offset parameter to retrieve all of the results (or 5000 for a particularly large result set) for the original query. As you do this, be mindful of how you store the data. Your final goal will be to reformat the data concerning the businesses themselves into a pandas DataFrame from the json objects.\n",
    "\n",
    "**Note: be mindful of the API rate limits. You can only make 5000 requests per day, and are also can make requests too fast. Start prototyping small before running a loop that could be faulty. You can also use time.sleep(n) to add delays. For more details see https://www.yelp.com/developers/documentation/v3/rate_limiting.**"
   ]
  },
  {
   "cell_type": "code",
   "execution_count": 64,
   "metadata": {},
   "outputs": [
    {
     "data": {
      "text/html": [
       "<div>\n",
       "<style scoped>\n",
       "    .dataframe tbody tr th:only-of-type {\n",
       "        vertical-align: middle;\n",
       "    }\n",
       "\n",
       "    .dataframe tbody tr th {\n",
       "        vertical-align: top;\n",
       "    }\n",
       "\n",
       "    .dataframe thead th {\n",
       "        text-align: right;\n",
       "    }\n",
       "</style>\n",
       "<table border=\"1\" class=\"dataframe\">\n",
       "  <thead>\n",
       "    <tr style=\"text-align: right;\">\n",
       "      <th></th>\n",
       "      <th>alias</th>\n",
       "      <th>categories</th>\n",
       "      <th>coordinates</th>\n",
       "      <th>display_phone</th>\n",
       "      <th>distance</th>\n",
       "      <th>id</th>\n",
       "      <th>image_url</th>\n",
       "      <th>is_closed</th>\n",
       "      <th>location</th>\n",
       "      <th>name</th>\n",
       "      <th>phone</th>\n",
       "      <th>price</th>\n",
       "      <th>rating</th>\n",
       "      <th>review_count</th>\n",
       "      <th>transactions</th>\n",
       "      <th>url</th>\n",
       "    </tr>\n",
       "  </thead>\n",
       "  <tbody>\n",
       "    <tr>\n",
       "      <th>0</th>\n",
       "      <td>old-tbilisi-garden-new-york-5</td>\n",
       "      <td>[{'alias': 'modern_european', 'title': 'Modern...</td>\n",
       "      <td>{'latitude': 40.7287707, 'longitude': -74.0008...</td>\n",
       "      <td>(212) 470-6064</td>\n",
       "      <td>2651.331111</td>\n",
       "      <td>MbwsCB7echBlVwzfJ_9c9g</td>\n",
       "      <td>https://s3-media4.fl.yelpcdn.com/bphoto/rHIAAj...</td>\n",
       "      <td>False</td>\n",
       "      <td>{'address1': '174 Bleecker St', 'address2': ''...</td>\n",
       "      <td>Old Tbilisi Garden</td>\n",
       "      <td>+12124706064</td>\n",
       "      <td>$$</td>\n",
       "      <td>4.0</td>\n",
       "      <td>345</td>\n",
       "      <td>[restaurant_reservation, pickup, delivery]</td>\n",
       "      <td>https://www.yelp.com/biz/old-tbilisi-garden-ne...</td>\n",
       "    </tr>\n",
       "    <tr>\n",
       "      <th>1</th>\n",
       "      <td>chama-mama-new-york</td>\n",
       "      <td>[{'alias': 'georgian', 'title': 'Georgian'}]</td>\n",
       "      <td>{'latitude': 40.7384, 'longitude': -73.99892}</td>\n",
       "      <td>(646) 438-9007</td>\n",
       "      <td>3690.546028</td>\n",
       "      <td>cTE0e96GYzet799EJeStoQ</td>\n",
       "      <td>https://s3-media3.fl.yelpcdn.com/bphoto/qRZaBn...</td>\n",
       "      <td>False</td>\n",
       "      <td>{'address1': '149 W 14th St', 'address2': None...</td>\n",
       "      <td>Chama Mama</td>\n",
       "      <td>+16464389007</td>\n",
       "      <td>NaN</td>\n",
       "      <td>4.5</td>\n",
       "      <td>58</td>\n",
       "      <td>[]</td>\n",
       "      <td>https://www.yelp.com/biz/chama-mama-new-york?a...</td>\n",
       "    </tr>\n",
       "    <tr>\n",
       "      <th>2</th>\n",
       "      <td>oda-house-new-york</td>\n",
       "      <td>[{'alias': 'georgian', 'title': 'Georgian'}]</td>\n",
       "      <td>{'latitude': 40.7240282, 'longitude': -73.9821...</td>\n",
       "      <td>(212) 353-3838</td>\n",
       "      <td>2304.651268</td>\n",
       "      <td>dYqWosnE1UlJs4Wx-M_u_A</td>\n",
       "      <td>https://s3-media1.fl.yelpcdn.com/bphoto/0zLOP8...</td>\n",
       "      <td>False</td>\n",
       "      <td>{'address1': '76 Ave B', 'address2': '', 'addr...</td>\n",
       "      <td>Oda House</td>\n",
       "      <td>+12123533838</td>\n",
       "      <td>$$</td>\n",
       "      <td>4.0</td>\n",
       "      <td>328</td>\n",
       "      <td>[pickup, delivery]</td>\n",
       "      <td>https://www.yelp.com/biz/oda-house-new-york?ad...</td>\n",
       "    </tr>\n",
       "    <tr>\n",
       "      <th>3</th>\n",
       "      <td>marani-rego-park-5</td>\n",
       "      <td>[{'alias': 'mediterranean', 'title': 'Mediterr...</td>\n",
       "      <td>{'latitude': 40.731202, 'longitude': -73.859833}</td>\n",
       "      <td>(718) 569-0600</td>\n",
       "      <td>11688.287889</td>\n",
       "      <td>A0GVSLdYCEIr-yLZnqhJkg</td>\n",
       "      <td>https://s3-media4.fl.yelpcdn.com/bphoto/Vlzy84...</td>\n",
       "      <td>False</td>\n",
       "      <td>{'address1': '97-26 63rd Rd', 'address2': '', ...</td>\n",
       "      <td>Marani</td>\n",
       "      <td>+17185690600</td>\n",
       "      <td>$$</td>\n",
       "      <td>4.5</td>\n",
       "      <td>221</td>\n",
       "      <td>[pickup, delivery]</td>\n",
       "      <td>https://www.yelp.com/biz/marani-rego-park-5?ad...</td>\n",
       "    </tr>\n",
       "    <tr>\n",
       "      <th>4</th>\n",
       "      <td>cheeseboat-brooklyn</td>\n",
       "      <td>[{'alias': 'georgian', 'title': 'Georgian'}]</td>\n",
       "      <td>{'latitude': 40.71994, 'longitude': -73.95791}</td>\n",
       "      <td>(929) 295-8401</td>\n",
       "      <td>3462.122520</td>\n",
       "      <td>Z3yjBSmuoQbz6olnO_S1tQ</td>\n",
       "      <td>https://s3-media4.fl.yelpcdn.com/bphoto/MK_u1l...</td>\n",
       "      <td>False</td>\n",
       "      <td>{'address1': '80 Berry St', 'address2': None, ...</td>\n",
       "      <td>Cheeseboat</td>\n",
       "      <td>+19292958401</td>\n",
       "      <td>$$</td>\n",
       "      <td>4.0</td>\n",
       "      <td>351</td>\n",
       "      <td>[pickup, delivery]</td>\n",
       "      <td>https://www.yelp.com/biz/cheeseboat-brooklyn?a...</td>\n",
       "    </tr>\n",
       "  </tbody>\n",
       "</table>\n",
       "</div>"
      ],
      "text/plain": [
       "                           alias  \\\n",
       "0  old-tbilisi-garden-new-york-5   \n",
       "1            chama-mama-new-york   \n",
       "2             oda-house-new-york   \n",
       "3             marani-rego-park-5   \n",
       "4            cheeseboat-brooklyn   \n",
       "\n",
       "                                          categories  \\\n",
       "0  [{'alias': 'modern_european', 'title': 'Modern...   \n",
       "1       [{'alias': 'georgian', 'title': 'Georgian'}]   \n",
       "2       [{'alias': 'georgian', 'title': 'Georgian'}]   \n",
       "3  [{'alias': 'mediterranean', 'title': 'Mediterr...   \n",
       "4       [{'alias': 'georgian', 'title': 'Georgian'}]   \n",
       "\n",
       "                                         coordinates   display_phone  \\\n",
       "0  {'latitude': 40.7287707, 'longitude': -74.0008...  (212) 470-6064   \n",
       "1      {'latitude': 40.7384, 'longitude': -73.99892}  (646) 438-9007   \n",
       "2  {'latitude': 40.7240282, 'longitude': -73.9821...  (212) 353-3838   \n",
       "3   {'latitude': 40.731202, 'longitude': -73.859833}  (718) 569-0600   \n",
       "4     {'latitude': 40.71994, 'longitude': -73.95791}  (929) 295-8401   \n",
       "\n",
       "       distance                      id  \\\n",
       "0   2651.331111  MbwsCB7echBlVwzfJ_9c9g   \n",
       "1   3690.546028  cTE0e96GYzet799EJeStoQ   \n",
       "2   2304.651268  dYqWosnE1UlJs4Wx-M_u_A   \n",
       "3  11688.287889  A0GVSLdYCEIr-yLZnqhJkg   \n",
       "4   3462.122520  Z3yjBSmuoQbz6olnO_S1tQ   \n",
       "\n",
       "                                           image_url  is_closed  \\\n",
       "0  https://s3-media4.fl.yelpcdn.com/bphoto/rHIAAj...      False   \n",
       "1  https://s3-media3.fl.yelpcdn.com/bphoto/qRZaBn...      False   \n",
       "2  https://s3-media1.fl.yelpcdn.com/bphoto/0zLOP8...      False   \n",
       "3  https://s3-media4.fl.yelpcdn.com/bphoto/Vlzy84...      False   \n",
       "4  https://s3-media4.fl.yelpcdn.com/bphoto/MK_u1l...      False   \n",
       "\n",
       "                                            location                name  \\\n",
       "0  {'address1': '174 Bleecker St', 'address2': ''...  Old Tbilisi Garden   \n",
       "1  {'address1': '149 W 14th St', 'address2': None...          Chama Mama   \n",
       "2  {'address1': '76 Ave B', 'address2': '', 'addr...           Oda House   \n",
       "3  {'address1': '97-26 63rd Rd', 'address2': '', ...              Marani   \n",
       "4  {'address1': '80 Berry St', 'address2': None, ...          Cheeseboat   \n",
       "\n",
       "          phone price  rating  review_count  \\\n",
       "0  +12124706064    $$     4.0           345   \n",
       "1  +16464389007   NaN     4.5            58   \n",
       "2  +12123533838    $$     4.0           328   \n",
       "3  +17185690600    $$     4.5           221   \n",
       "4  +19292958401    $$     4.0           351   \n",
       "\n",
       "                                 transactions  \\\n",
       "0  [restaurant_reservation, pickup, delivery]   \n",
       "1                                          []   \n",
       "2                          [pickup, delivery]   \n",
       "3                          [pickup, delivery]   \n",
       "4                          [pickup, delivery]   \n",
       "\n",
       "                                                 url  \n",
       "0  https://www.yelp.com/biz/old-tbilisi-garden-ne...  \n",
       "1  https://www.yelp.com/biz/chama-mama-new-york?a...  \n",
       "2  https://www.yelp.com/biz/oda-house-new-york?ad...  \n",
       "3  https://www.yelp.com/biz/marani-rego-park-5?ad...  \n",
       "4  https://www.yelp.com/biz/cheeseboat-brooklyn?a...  "
      ]
     },
     "execution_count": 64,
     "metadata": {},
     "output_type": "execute_result"
    }
   ],
   "source": [
    "# Your code here; use a function or loop to retrieve all the results from your original request\n",
    "\n",
    "businesses = []\n",
    "while offset < (total_count + step):\n",
    "    try:\n",
    "        response = yelp_request(offset, step)\n",
    "        data = response.json()\n",
    "        for business in data['businesses']:\n",
    "            businesses.append(business)\n",
    "    except Exception as e:\n",
    "        print(e)\n",
    "    \n",
    "    finally:\n",
    "        offset += step  \n",
    "\n",
    "df = pd.DataFrame.from_dict(businesses)\n",
    "df.head()"
   ]
  },
  {
   "cell_type": "code",
   "execution_count": 65,
   "metadata": {},
   "outputs": [
    {
     "data": {
      "text/plain": [
       "Index(['alias', 'categories', 'coordinates', 'display_phone', 'distance', 'id',\n",
       "       'image_url', 'is_closed', 'location', 'name', 'phone', 'price',\n",
       "       'rating', 'review_count', 'transactions', 'url'],\n",
       "      dtype='object')"
      ]
     },
     "execution_count": 65,
     "metadata": {},
     "output_type": "execute_result"
    }
   ],
   "source": [
    "df.tail()\n",
    "df.shape\n",
    "df.columns"
   ]
  },
  {
   "cell_type": "markdown",
   "metadata": {},
   "source": [
    "## Exploratory Analysis\n",
    "\n",
    "Take the restaurants from the previous question and do an initial exploratory analysis. At minimum, this should include looking at the distribution of features such as price, rating and number of reviews as well as the relations between these dimensions."
   ]
  },
  {
   "cell_type": "code",
   "execution_count": 67,
   "metadata": {},
   "outputs": [
    {
     "data": {
      "text/plain": [
       "Index(['coordinates', 'is_closed', 'location', 'name', 'phone', 'price',\n",
       "       'rating', 'review_count'],\n",
       "      dtype='object')"
      ]
     },
     "execution_count": 67,
     "metadata": {},
     "output_type": "execute_result"
    }
   ],
   "source": [
    "df1 = df.loc[:,['coordinates', 'is_closed', 'location', 'name', 'phone', 'price', 'rating', 'review_count']]\n",
    "df1.columns\n",
    "             \n",
    "             "
   ]
  },
  {
   "cell_type": "code",
   "execution_count": 73,
   "metadata": {},
   "outputs": [
    {
     "data": {
      "text/plain": [
       "{'center': {'longitude': -73.99429321289062, 'latitude': 40.70544486444615}}"
      ]
     },
     "execution_count": 73,
     "metadata": {},
     "output_type": "execute_result"
    }
   ],
   "source": [
    "df1.head()\n",
    "data['region']"
   ]
  },
  {
   "cell_type": "markdown",
   "metadata": {},
   "source": [
    "## Mapping\n",
    "\n",
    "Look at the initial Yelp example and try and make a map using Folium of the restaurants you retrieved. Be sure to also add popups to the markers giving some basic information such as name, rating and price."
   ]
  },
  {
   "cell_type": "code",
   "execution_count": 85,
   "metadata": {},
   "outputs": [
    {
     "data": {
      "text/html": [
       "<div style=\"width:100%;\"><div style=\"position:relative;width:100%;height:0;padding-bottom:60%;\"><iframe src=\"data:text/html;charset=utf-8;base64,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\" style=\"position:absolute;width:100%;height:100%;left:0;top:0;border:none !important;\" allowfullscreen webkitallowfullscreen mozallowfullscreen></iframe></div></div>"
      ],
      "text/plain": [
       "<folium.folium.Map at 0x7fa9540bd940>"
      ]
     },
     "execution_count": 85,
     "metadata": {},
     "output_type": "execute_result"
    }
   ],
   "source": [
    "#Your code here\n",
    "start_lat = data['region']['center']['latitude']\n",
    "start_long = data['region']['center']['longitude']\n",
    "base_map = folium.Map([start_lat, start_long], zoom_start=13)\n",
    "\n",
    "for b in businesses:\n",
    "    lat = b['coordinates']['latitude']\n",
    "    long = b['coordinates']['longitude']\n",
    "    popup_text = \"{}, {}, {} {}\".format(b['location']['address1'], b['location']['city'], b['location']['state'], b['location']['zip_code'])\n",
    "    popup = folium.Popup(popup_text, parse_html=True)\n",
    "    marker = folium.Marker(location=[lat, long], popup=popup)\n",
    "    marker.add_to(base_map)\n",
    "base_map\n",
    "\n"
   ]
  },
  {
   "cell_type": "markdown",
   "metadata": {},
   "source": [
    "## Summary\n",
    "\n",
    "Nice work! In this lab, you synthesized your skills for the day, making multiple API calls to Yelp in order to paginate through a results set, performing some basic exploratory analysis and then creating a nice map visual to display the results! Well done!"
   ]
  }
 ],
 "metadata": {
  "kernelspec": {
   "display_name": "Python 3",
   "language": "python",
   "name": "python3"
  },
  "language_info": {
   "codemirror_mode": {
    "name": "ipython",
    "version": 3
   },
   "file_extension": ".py",
   "mimetype": "text/x-python",
   "name": "python",
   "nbconvert_exporter": "python",
   "pygments_lexer": "ipython3",
   "version": "3.6.6"
  }
 },
 "nbformat": 4,
 "nbformat_minor": 2
}
